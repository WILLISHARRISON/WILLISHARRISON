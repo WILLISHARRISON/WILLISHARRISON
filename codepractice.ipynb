{
  "nbformat": 4,
  "nbformat_minor": 0,
  "metadata": {
    "colab": {
      "provenance": [],
      "toc_visible": true,
      "authorship_tag": "ABX9TyNgkWcs2wT2uA69LqOcLIaD",
      "include_colab_link": true
    },
    "kernelspec": {
      "name": "python3",
      "display_name": "Python 3"
    },
    "language_info": {
      "name": "python"
    }
  },
  "cells": [
    {
      "cell_type": "markdown",
      "metadata": {
        "id": "view-in-github",
        "colab_type": "text"
      },
      "source": [
        "<a href=\"https://colab.research.google.com/github/WILLISHARRISON/WILLISHARRISON/blob/main/codepractice.ipynb\" target=\"_parent\"><img src=\"https://colab.research.google.com/assets/colab-badge.svg\" alt=\"Open In Colab\"/></a>"
      ]
    },
    {
      "cell_type": "code",
      "execution_count": 23,
      "metadata": {
        "colab": {
          "base_uri": "https://localhost:8080/"
        },
        "id": "buF3mpaSofy2",
        "outputId": "c7b588f1-ea1a-4f2f-d5f8-4a5b97640168"
      },
      "outputs": [
        {
          "output_type": "stream",
          "name": "stdout",
          "text": [
            "['mango', 'orange', 'pineapple', 'watermellon', 'banana']\n",
            "['mango', 'watermellon', 'guavas']\n",
            "[]\n",
            "mango\n",
            "apple\n",
            "banana\n",
            "mellon\n",
            "['banana', 'kiwi', 'mango', 'orange']\n",
            "mango\n",
            "banana\n",
            "guavas\n",
            "ovacado\n",
            "['brian', 'martha']\n",
            "[36, 40, 50, 78, 80, 99, 100]\n",
            "[200, 90, 87, 86, 65, 56, 48]\n",
            "['ben', 'ivy', 'ruben', 'carol', 1, 4, 6, 8]\n",
            "['ben', 'carol', 'ivy', 'alucheli']\n",
            "False\n",
            "{'ovacado', 'strewberry', 'mango', 'lemon', 'banana'}\n",
            "{'ovacado', 'strewberry', 'mango', 'lemon', 'banana'}\n",
            "{'ovacado', 'strewberry', 'mango', 'lemon', 'banana'}\n",
            "{'ovacado', 'strewberry', 'mango', 'lemon', 'banana'}\n",
            "{'ovacado', 'strewberry', 'mango', 'lemon', 'banana'}\n",
            "mercdes\n",
            "4\n",
            "{'name': 'john', 'age': 46, 'country': 'kenya'}\n"
          ]
        }
      ],
      "source": [
        "thislist=['mango','orange','pineapple']\n",
        "tropical=['watermellon','banana']\n",
        "thislist.extend(tropical)\n",
        "print(thislist)\n",
        "\n",
        "thislist=['mango','banana','watermellon','guavas']\n",
        "thislist.remove('banana')\n",
        "print(thislist)\n",
        "\n",
        "thislist=['mango','mellon','oranges','guavas']\n",
        "thislist.clear()\n",
        "print(thislist)\n",
        "\n",
        "thislist=['mango','apple','banana','mellon']\n",
        "for x in thislist:\n",
        "  print(x)\n",
        "\n",
        "thislist=['mango','orange','kiwi','banana']\n",
        "thislist.sort()\n",
        "print(thislist)\n",
        "\n",
        "thislist=['mango','banana','guavas','ovacado']\n",
        "for i in range(len(thislist)):\n",
        "  print(thislist[i])\n",
        "\n",
        "names=['Alucheli','brian','bob','june','ivy','martha']\n",
        "newlist=[]\n",
        "for x in names:\n",
        "  if \"a\" in x:\n",
        "    newlist.append(x)\n",
        "print(newlist)\n",
        "\n",
        "thislist=[100,50,40,80,99,36,78]\n",
        "thislist.sort()\n",
        "print(thislist)\n",
        "\n",
        "thislist=[86,65,200,48,87,56,90,]\n",
        "thislist.sort(reverse=True)\n",
        "print(thislist)\n",
        "\n",
        "list1=['ben','ivy','ruben','carol']\n",
        "list2=[1,4,6,8]\n",
        "list3=list1+list2\n",
        "print(list3)\n",
        "\n",
        "thistuple=['ben','carol','ivy','alucheli']\n",
        "print(thistuple)\n",
        "\n",
        "thiset=['mango','banana','guavas','ovacado','oranges']\n",
        "print('banana' not in thiset)\n",
        "\n",
        "thiset={'mango','banana','lemon','ovacado','strewberry'}\n",
        "for x in thiset:\n",
        "  print(thiset)\n",
        "\n",
        "thisdict={\n",
        "    'brand':'mercdes',\n",
        "    'model':'mustang',\n",
        "    'year of manufacture':2005,\n",
        "    'accident':False\n",
        "}\n",
        "print(thisdict['brand'])\n",
        "\n",
        "print(len(thisdict))\n",
        "\n",
        "thisdict=dict(name='john',age=46,country='kenya')\n",
        "print(thisdict)\n",
        "\n",
        "thisdict={\n",
        "    'name':'harrison',\n",
        "    'age':49,\n",
        "    'email':'willisakwiri@gmail.com',\n",
        "    'student':False,\n",
        "}\n",
        "x=thisdict.keys()\n",
        "\n",
        "\n",
        "\n"
      ]
    },
    {
      "cell_type": "code",
      "source": [],
      "metadata": {
        "id": "NM66WyGnzohR"
      },
      "execution_count": null,
      "outputs": []
    },
    {
      "cell_type": "markdown",
      "source": [],
      "metadata": {
        "id": "OnXEZr6izpPg"
      }
    },
    {
      "cell_type": "code",
      "source": [],
      "metadata": {
        "id": "LX-OKSUi08mP"
      },
      "execution_count": null,
      "outputs": []
    }
  ]
}